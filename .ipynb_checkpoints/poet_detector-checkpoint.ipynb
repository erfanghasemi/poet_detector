{
 "cells": [
  {
   "cell_type": "code",
   "execution_count": 159,
   "metadata": {},
   "outputs": [],
   "source": [
    "from copy import deepcopy"
   ]
  },
  {
   "cell_type": "code",
   "execution_count": 160,
   "metadata": {},
   "outputs": [],
   "source": [
    "words = {}\n",
    "\n",
    "line = None\n",
    "count  = 0\n",
    "def update_dict(file_path: str):\n",
    "    global count, line, words\n",
    "    with open(file_path, 'r', encoding='UTF_8') as f:\n",
    "        while True:\n",
    "            line = f.readline()\n",
    "            if not line:\n",
    "                break\n",
    "            for word in line.split():\n",
    "                if word not in words:\n",
    "                    words[word] = 1\n",
    "                else:\n",
    "                    words[word] += 1"
   ]
  },
  {
   "cell_type": "code",
   "execution_count": 161,
   "metadata": {},
   "outputs": [],
   "source": [
    "update_dict('ferdowsi_train.txt')\n",
    "update_dict('hafez_train.txt')\n",
    "update_dict('molavi_train.txt')"
   ]
  },
  {
   "cell_type": "code",
   "execution_count": 162,
   "metadata": {},
   "outputs": [],
   "source": [
    "temp = []\n",
    "for word in words:\n",
    "    if words[word] < 3:\n",
    "        temp.append(word)\n",
    "for word in temp:\n",
    "    del words[word]\n",
    "words[\"<s>\"] = 1"
   ]
  },
  {
   "cell_type": "code",
   "execution_count": 163,
   "metadata": {},
   "outputs": [],
   "source": [
    "def unigram(file_path: str):\n",
    "    global words\n",
    "    lines_count = 0\n",
    "    total_words = 0\n",
    "    prob_dict = {}\n",
    "    with open(file_path, 'r', encoding='UTF_8') as f:\n",
    "        while True:\n",
    "            line = f.readline()\n",
    "            if not line:\n",
    "                break\n",
    "            lines_count += 1\n",
    "            for word in line.split():\n",
    "                total_words += 1\n",
    "                if word in words:\n",
    "                    if word in prob_dict:\n",
    "                        prob_dict[word] += 1\n",
    "                    else:\n",
    "                        prob_dict[word] = 1\n",
    "                else:\n",
    "                    prob_dict[word] = 0\n",
    "    words_count = deepcopy(prob_dict)\n",
    "    for word in prob_dict:\n",
    "        prob_dict[word] /= total_words\n",
    "    \n",
    "    prob_dict[\"</s>\"] = lines_count / total_words\n",
    "    return prob_dict, lines_count, words_count"
   ]
  },
  {
   "cell_type": "code",
   "execution_count": 164,
   "metadata": {},
   "outputs": [],
   "source": [
    "ferdowsi_unigram, ferdowsi_lines, ferdowsi_words = unigram('ferdowsi_train.txt')\n",
    "hafez_unigram, hafez_lines, hafez_words = unigram('hafez_train.txt')\n",
    "moalvi_unigram, molavi_lines, molavi_words = unigram('molavi_train.txt')"
   ]
  },
  {
   "cell_type": "code",
   "execution_count": 165,
   "metadata": {},
   "outputs": [],
   "source": [
    "def bigram(file_path: str, lines_count: int, words_count: dict):\n",
    "    global words\n",
    "    prob_dict = {}\n",
    "    with open(file_path, 'r', encoding='UTF_8') as f:\n",
    "        while True:\n",
    "            line = f.readline()\n",
    "            if not line:\n",
    "                break\n",
    "            words_line = line.split()\n",
    "            words_line.append(\"<s>\")\n",
    "            words_line.insert(0, \"<s>\")\n",
    "            for i in range(1, len(words_line)):\n",
    "                if words_line[i] not in words or words_line[i-1] not in words:\n",
    "                    continue\n",
    "                if (words_line[i], words_line[i-1]) not in prob_dict:\n",
    "                    prob_dict[(words_line[i], words_line[i-1])] = 1\n",
    "                else:\n",
    "                    prob_dict[(words_line[i], words_line[i-1])] += 1\n",
    "    \n",
    "    for pair in prob_dict:\n",
    "        if pair[1] != \"<s>\":\n",
    "            prob_dict[pair] /= words_count[pair[1]]\n",
    "        else:\n",
    "            prob_dict[pair] /= lines_count\n",
    "            \n",
    "    return prob_dict           "
   ]
  },
  {
   "cell_type": "code",
   "execution_count": 166,
   "metadata": {},
   "outputs": [],
   "source": [
    "ferdowsi_bigram = bigram('ferdowsi_train.txt', ferdowsi_lines, ferdowsi_words)\n",
    "hafez_bigram = bigram('hafez_train.txt', hafez_lines, hafez_words)\n",
    "moalvi_bigram = bigram('molavi_train.txt', molavi_lines, molavi_words)"
   ]
  },
  {
   "cell_type": "code",
   "execution_count": 172,
   "metadata": {},
   "outputs": [],
   "source": [
    "# lambda3 = 0.8\n",
    "# lambda2 = 0.15\n",
    "# lambda1 = 0.1\n",
    "# epsilon = 0.7"
   ]
  },
  {
   "cell_type": "code",
   "execution_count": 173,
   "metadata": {},
   "outputs": [],
   "source": [
    "def backoff_model(unigram: dict, bigram: dict, line : list, lambda3: int, lambda2: int, lambda1: int, epsilon: int):\n",
    "    probability = 1\n",
    "    \n",
    "    for i in range(1, len(line)):\n",
    "        bigram_prob = 0\n",
    "        unigram_prob = 0\n",
    "        \n",
    "        if (line[i], line[i-1]) in bigram:\n",
    "            bigram_prob = bigram[(line[i], line[i-1])]\n",
    "            \n",
    "        if line[i] in unigram:\n",
    "            unigram_prob = unigram[line[i]]\n",
    "        \n",
    "        probability *= (lambda3 * bigram_prob) + (lambda2 * unigram_prob) + (lambda1 * epsilon)\n",
    "    return probability"
   ]
  },
  {
   "cell_type": "code",
   "execution_count": 174,
   "metadata": {},
   "outputs": [],
   "source": [
    "def test(file_path: str, lambda3: int, lambda2: int, lambda1: int, epsilon: int):\n",
    "    correct_case = 0\n",
    "    total_case = 0\n",
    "    \n",
    "    with open(file_path, 'r', encoding='UTF_8') as f:\n",
    "        while True:\n",
    "            total_case += 1\n",
    "            result = 1\n",
    "            line = f.readline()\n",
    "            if not line:\n",
    "                break\n",
    "            \n",
    "            ferdowsi_probability = backoff_model(ferdowsi_unigram, ferdowsi_bigram, line.split()[1:], lambda3, lambda2, lambda1, epsilon)\n",
    "            hafez_probability = backoff_model(hafez_unigram, hafez_bigram, line.split()[1:], lambda3, lambda2, lambda1, epsilon)\n",
    "            moalvi_probability = backoff_model(moalvi_unigram, moalvi_bigram, line.split()[1:], lambda3, lambda2, lambda1, epsilon)\n",
    "            \n",
    "            if max(ferdowsi_probability, hafez_probability, moalvi_probability) == hafez_probability:\n",
    "                result = 2\n",
    "            elif max(ferdowsi_probability, hafez_probability, moalvi_probability) == moalvi_probability:\n",
    "                result = 3\n",
    "            if result == int(line.split()[0]):\n",
    "                correct_case += 1\n",
    "    \n",
    "    return correct_case/total_case"
   ]
  },
  {
   "cell_type": "code",
   "execution_count": 305,
   "metadata": {},
   "outputs": [
    {
     "data": {
      "text/plain": [
       "0.7987649836541955"
      ]
     },
     "execution_count": 305,
     "metadata": {},
     "output_type": "execute_result"
    }
   ],
   "source": [
    "test('test_file.txt', 0.800, 0.18, 0.02, 0.000005)"
   ]
  },
  {
   "cell_type": "code",
   "execution_count": null,
   "metadata": {},
   "outputs": [],
   "source": [
    "best = 0\n",
    "lambda3_max = 0\n",
    "lambda2_max = 0\n",
    "lambda1_max = 0\n",
    "epsilon_max = 0\n",
    "\n",
    "for lambda3 in range(800, 802):\n",
    "#     print(\"lambda3 step = {}\".format(lambda3))\n",
    "    for lambda2 in range(177, 1000-lambda3):\n",
    "#             print(\"lambda2 step = {}\".format(lambda2))\n",
    "            for epsilon in range(0, 1000):\n",
    "                lambda1 = (1000 - lambda3 - lambda2)\n",
    "                \n",
    "                result = test('test_file.txt', lambda3/1000, lambda2/1000, lambda1/1000, epsilon/1000)\n",
    "#                 print(\"result = {}, lambda3 = {}, lambda2 = {}, lambda1 = {}, epsilon = {}\\n\".format(result, lambda3/100, lambda2/100, lambda1/100, epsilon/100))\n",
    "                if best < result:\n",
    "#                     print(\"max = {}, lambda3 = {}, lambda2 = {}, lambda1 = {}, epsilon = {}\\n\".format(result, lambda3/1000, lambda2/1000, lambda1/1000, epsilon/1000))\n",
    "                    best = result\n",
    "                    lambda3_max = lambda3\n",
    "                    lambda2_max = lambda2\n",
    "                    lambda1_max = lambda1\n",
    "                    epsilon_max = epsilon"
   ]
  },
  {
   "cell_type": "code",
   "execution_count": null,
   "metadata": {},
   "outputs": [],
   "source": []
  },
  {
   "cell_type": "code",
   "execution_count": null,
   "metadata": {},
   "outputs": [],
   "source": []
  }
 ],
 "metadata": {
  "kernelspec": {
   "display_name": "Python 3",
   "language": "python",
   "name": "python3"
  },
  "language_info": {
   "codemirror_mode": {
    "name": "ipython",
    "version": 3
   },
   "file_extension": ".py",
   "mimetype": "text/x-python",
   "name": "python",
   "nbconvert_exporter": "python",
   "pygments_lexer": "ipython3",
   "version": "3.7.3"
  }
 },
 "nbformat": 4,
 "nbformat_minor": 2
}
