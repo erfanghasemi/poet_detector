{
 "cells": [
  {
   "cell_type": "code",
   "execution_count": 3,
   "metadata": {},
   "outputs": [],
   "source": [
    "words = {}\n",
    "\n",
    "line = None\n",
    "count  = 0\n",
    "def update_dict(file_path):\n",
    "    global count, line, words\n",
    "    with open(file_path, 'r', encoding='UTF_8') as f:\n",
    "        while True:\n",
    "            line = f.readline()\n",
    "            if not line:\n",
    "                break\n",
    "            for word in line.split():\n",
    "                if word not in words:\n",
    "                    words[word] = 1\n",
    "                else:\n",
    "                    words[word] += 1"
   ]
  },
  {
   "cell_type": "code",
   "execution_count": null,
   "metadata": {},
   "outputs": [],
   "source": [
    "update_dict('ferdowsi_train.txt')\n",
    "update_dict('hafez_train.txt')\n",
    "update_dict('molavi_train.txt')"
   ]
  },
  {
   "cell_type": "code",
   "execution_count": 4,
   "metadata": {},
   "outputs": [],
   "source": [
    "temp = []\n",
    "for word in words:\n",
    "    if words[word] < 3:\n",
    "        temp.append(word)\n",
    "for word in temp:\n",
    "    del words[word]\n",
    "words[\"s\"] = 1"
   ]
  },
  {
   "cell_type": "code",
   "execution_count": 37,
   "metadata": {},
   "outputs": [],
   "source": [
    "def unigram(file_path):\n",
    "    global words\n",
    "    \n",
    "    total_words = 0\n",
    "    prob_dict = {}\n",
    "    with open(file_path, 'r', encoding='UTF_8') as f:\n",
    "        while True:\n",
    "            line = f.readline()\n",
    "            if not line:\n",
    "                break\n",
    "            for word in line.split():\n",
    "                total_words += 1\n",
    "                if word in words:\n",
    "                    if word in prob_dict:\n",
    "                        prob_dict[word] += 1\n",
    "                    else:\n",
    "                        prob_dict[word] = 1\n",
    "                else:\n",
    "                    prob_dict[word] = 0\n",
    "    for word in prob_dict:\n",
    "        prob_dict[word] /= total_words\n",
    "        \n",
    "    return prob_dict"
   ]
  },
  {
   "cell_type": "code",
   "execution_count": 41,
   "metadata": {},
   "outputs": [],
   "source": [
    "ferdowsi_unigram = unigram('ferdowsi_train.txt')\n",
    "hafez_unigram = unigram('hafez_train.txt')\n",
    "moalvi_unigram = unigram('molavi_train.txt')"
   ]
  }
 ],
 "metadata": {
  "kernelspec": {
   "display_name": "Python 3",
   "language": "python",
   "name": "python3"
  },
  "language_info": {
   "codemirror_mode": {
    "name": "ipython",
    "version": 3
   },
   "file_extension": ".py",
   "mimetype": "text/x-python",
   "name": "python",
   "nbconvert_exporter": "python",
   "pygments_lexer": "ipython3",
   "version": "3.7.3"
  }
 },
 "nbformat": 4,
 "nbformat_minor": 2
}
