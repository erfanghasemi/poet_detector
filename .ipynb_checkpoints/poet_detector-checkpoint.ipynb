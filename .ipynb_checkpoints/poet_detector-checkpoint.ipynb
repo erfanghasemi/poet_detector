{
 "cells": [
  {
   "cell_type": "code",
   "execution_count": 73,
   "metadata": {},
   "outputs": [],
   "source": [
    "from copy import deepcopy"
   ]
  },
  {
   "cell_type": "code",
   "execution_count": 74,
   "metadata": {},
   "outputs": [],
   "source": [
    "words = {}\n",
    "\n",
    "line = None\n",
    "count  = 0\n",
    "def update_dict(file_path: str):\n",
    "    global count, line, words\n",
    "    with open(file_path, 'r', encoding='UTF_8') as f:\n",
    "        while True:\n",
    "            line = f.readline()\n",
    "            if not line:\n",
    "                break\n",
    "            for word in line.split():\n",
    "                if word not in words:\n",
    "                    words[word] = 1\n",
    "                else:\n",
    "                    words[word] += 1"
   ]
  },
  {
   "cell_type": "code",
   "execution_count": 75,
   "metadata": {},
   "outputs": [],
   "source": [
    "update_dict('ferdowsi_train.txt')\n",
    "update_dict('hafez_train.txt')\n",
    "update_dict('molavi_train.txt')"
   ]
  },
  {
   "cell_type": "code",
   "execution_count": 76,
   "metadata": {},
   "outputs": [],
   "source": [
    "temp = []\n",
    "for word in words:\n",
    "    if words[word] < 3:\n",
    "        temp.append(word)\n",
    "for word in temp:\n",
    "    del words[word]\n",
    "words[\"<s>\"] = 1"
   ]
  },
  {
   "cell_type": "code",
   "execution_count": 77,
   "metadata": {},
   "outputs": [],
   "source": [
    "def unigram(file_path: str):\n",
    "    global words\n",
    "    lines_count = 0\n",
    "    total_words = 0\n",
    "    prob_dict = {}\n",
    "    with open(file_path, 'r', encoding='UTF_8') as f:\n",
    "        while True:\n",
    "            line = f.readline()\n",
    "            if not line:\n",
    "                break\n",
    "            lines_count += 1\n",
    "            for word in line.split():\n",
    "                total_words += 1\n",
    "                if word in words:\n",
    "                    if word in prob_dict:\n",
    "                        prob_dict[word] += 1\n",
    "                    else:\n",
    "                        prob_dict[word] = 1\n",
    "                else:\n",
    "                    prob_dict[word] = 0\n",
    "    words_count = deepcopy(prob_dict)\n",
    "    for word in prob_dict:\n",
    "        prob_dict[word] /= total_words\n",
    "    \n",
    "    prob_dict[\"</s>\"] = lines_count / total_words\n",
    "    return prob_dict, lines_count, words_count"
   ]
  },
  {
   "cell_type": "code",
   "execution_count": 78,
   "metadata": {},
   "outputs": [],
   "source": [
    "ferdowsi_unigram, ferdowsi_lines, ferdowsi_words = unigram('ferdowsi_train.txt')\n",
    "hafez_unigram, hafez_lines, hafez_words = unigram('hafez_train.txt')\n",
    "moalvi_unigram, molavi_lines, molavi_words = unigram('molavi_train.txt')"
   ]
  },
  {
   "cell_type": "code",
   "execution_count": 79,
   "metadata": {},
   "outputs": [],
   "source": [
    "def bigram(file_path: str, lines_count: int, words_count: dict):\n",
    "    global words\n",
    "    prob_dict = {}\n",
    "    with open(file_path, 'r', encoding='UTF_8') as f:\n",
    "        while True:\n",
    "            line = f.readline()\n",
    "            if not line:\n",
    "                break\n",
    "            words_line = line.split()\n",
    "            words_line.append(\"<s>\")\n",
    "            words_line.insert(0, \"<s>\")\n",
    "            for i in range(1, len(words_line)):\n",
    "                if words_line[i] not in words or words_line[i-1] not in words:\n",
    "                    continue\n",
    "                if (words_line[i], words_line[i-1]) not in prob_dict:\n",
    "                    prob_dict[(words_line[i], words_line[i-1])] = 1\n",
    "                else:\n",
    "                    prob_dict[(words_line[i], words_line[i-1])] += 1\n",
    "    \n",
    "    for pair in prob_dict:\n",
    "        if pair[1] != \"<s>\":\n",
    "            prob_dict[pair] /= words_count[pair[1]]\n",
    "        else:\n",
    "            prob_dict[pair] /= lines_count\n",
    "            \n",
    "    return prob_dict           "
   ]
  },
  {
   "cell_type": "code",
   "execution_count": 84,
   "metadata": {},
   "outputs": [],
   "source": [
    "ferdowsi_bigram = bigram('ferdowsi_train.txt', ferdowsi_lines, ferdowsi_words)\n",
    "hafez_bigram = bigram('hafez_train.txt', hafez_lines, hafez_words)\n",
    "moalvi_bigram = bigram('molavi_train.txt', molavi_lines, molavi_words)"
   ]
  },
  {
   "cell_type": "code",
   "execution_count": null,
   "metadata": {},
   "outputs": [],
   "source": [
    "def backoff_model(unigram: dict, bigram: dict, line : list, lambda3: int, lambda2: int, lambda1: int, epsilon: int):\n",
    "    \n",
    "    for i in range(1, len(line)):\n",
    "        bigram_prob = 0\n",
    "        unigram_prob = 0\n",
    "        \n",
    "        if (words_line[i], words_line[i-1]) in bigram:\n",
    "            bigram_prob = bigram[(words_line[i], words_line[i-1])]\n",
    "        \n",
    "        "
   ]
  },
  {
   "cell_type": "code",
   "execution_count": null,
   "metadata": {},
   "outputs": [],
   "source": []
  }
 ],
 "metadata": {
  "kernelspec": {
   "display_name": "Python 3",
   "language": "python",
   "name": "python3"
  },
  "language_info": {
   "codemirror_mode": {
    "name": "ipython",
    "version": 3
   },
   "file_extension": ".py",
   "mimetype": "text/x-python",
   "name": "python",
   "nbconvert_exporter": "python",
   "pygments_lexer": "ipython3",
   "version": "3.7.3"
  }
 },
 "nbformat": 4,
 "nbformat_minor": 2
}
